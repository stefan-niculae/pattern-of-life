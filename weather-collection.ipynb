{
 "cells": [
  {
   "cell_type": "code",
   "execution_count": 20,
   "metadata": {},
   "outputs": [],
   "source": [
    "key = '0eb3850a3d35ae6c4a62ff37b3a2ccbc'"
   ]
  },
  {
   "cell_type": "code",
   "execution_count": 42,
   "metadata": {},
   "outputs": [],
   "source": [
    "from datetime import datetime\n",
    "from darksky import forecast\n",
    "import pandas as pd"
   ]
  },
  {
   "cell_type": "code",
   "execution_count": 136,
   "metadata": {},
   "outputs": [],
   "source": [
    "# grid of lat and lon q1 q2 q3 for tweets in tokyo\n",
    "coords_grid = [\n",
    "    (35.63029398, 139.62766448),\n",
    "    (35.63029398, 139.706426),\n",
    "    (35.63029398, 139.771692),\n",
    "    (35.68128286, 139.62766448),\n",
    "    (35.68128286, 139.706426),\n",
    "    (35.68128286, 139.771692),\n",
    "    (35.7121583, 139.62766448),\n",
    "    (35.7121583, 139.706426),\n",
    "    (35.7121583, 139.771692)\n",
    "]"
   ]
  },
  {
   "cell_type": "code",
   "execution_count": 137,
   "metadata": {},
   "outputs": [],
   "source": [
    "# time we have tweets for\n",
    "time_range = pd.date_range(\n",
    "    start=datetime(2016, 4, 11),\n",
    "    end=datetime(2016, 4, 22),\n",
    "    freq='D'\n",
    ")"
   ]
  },
  {
   "cell_type": "code",
   "execution_count": 138,
   "metadata": {},
   "outputs": [
    {
     "name": "stdout",
     "output_type": "stream",
     "text": [
      "CPU times: user 2.19 s, sys: 123 ms, total: 2.32 s\n",
      "Wall time: 46 s\n"
     ]
    }
   ],
   "source": [
    "%%time\n",
    "dfs = []\n",
    "for (lat, lon) in coords_grid:\n",
    "    for d in time_range:\n",
    "        conditions = forecast(key, lat, lon, time=d.isoformat())\n",
    "        df = pd.DataFrame(conditions.hourly._data['data'])\n",
    "        df['lat'] = lat\n",
    "        df['lon'] = lon\n",
    "        dfs.append(df)"
   ]
  },
  {
   "cell_type": "code",
   "execution_count": 139,
   "metadata": {},
   "outputs": [],
   "source": [
    "df_all = pd.concat(dfs, ignore_index=True, sort=False)"
   ]
  },
  {
   "cell_type": "code",
   "execution_count": 140,
   "metadata": {},
   "outputs": [],
   "source": [
    "df_all.rename(columns={'time': 'utc_time'}, inplace=True)\n",
    "df_all['human_time'] = pd.to_datetime(df_all.utc_time, unit='s').dt.tz_localize('UTC').dt.tz_convert('Asia/Tokyo')"
   ]
  },
  {
   "cell_type": "code",
   "execution_count": 141,
   "metadata": {},
   "outputs": [],
   "source": [
    "df_all.to_csv('data/tokyo-weather.csv', index=False)"
   ]
  }
 ],
 "metadata": {
  "kernelspec": {
   "display_name": "Python 3",
   "language": "python",
   "name": "python3"
  },
  "language_info": {
   "codemirror_mode": {
    "name": "ipython",
    "version": 3
   },
   "file_extension": ".py",
   "mimetype": "text/x-python",
   "name": "python",
   "nbconvert_exporter": "python",
   "pygments_lexer": "ipython3",
   "version": "3.7.0"
  }
 },
 "nbformat": 4,
 "nbformat_minor": 2
}
