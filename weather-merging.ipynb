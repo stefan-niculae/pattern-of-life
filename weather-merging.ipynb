{
 "cells": [
  {
   "cell_type": "code",
   "execution_count": 1,
   "metadata": {},
   "outputs": [],
   "source": [
    "import pandas as pd"
   ]
  },
  {
   "cell_type": "code",
   "execution_count": 4,
   "metadata": {},
   "outputs": [],
   "source": [
    "weather = pd.read_csv('data/tokyo-weather-darksky.csv')"
   ]
  },
  {
   "cell_type": "code",
   "execution_count": 5,
   "metadata": {},
   "outputs": [
    {
     "data": {
      "text/html": [
       "<div>\n",
       "<style scoped>\n",
       "    .dataframe tbody tr th:only-of-type {\n",
       "        vertical-align: middle;\n",
       "    }\n",
       "\n",
       "    .dataframe tbody tr th {\n",
       "        vertical-align: top;\n",
       "    }\n",
       "\n",
       "    .dataframe thead th {\n",
       "        text-align: right;\n",
       "    }\n",
       "</style>\n",
       "<table border=\"1\" class=\"dataframe\">\n",
       "  <thead>\n",
       "    <tr style=\"text-align: right;\">\n",
       "      <th></th>\n",
       "      <th>apparentTemperature</th>\n",
       "      <th>cloudCover</th>\n",
       "      <th>dewPoint</th>\n",
       "      <th>humidity</th>\n",
       "      <th>icon</th>\n",
       "      <th>precipIntensity</th>\n",
       "      <th>precipProbability</th>\n",
       "      <th>pressure</th>\n",
       "      <th>summary</th>\n",
       "      <th>temperature</th>\n",
       "      <th>utc_time</th>\n",
       "      <th>uvIndex</th>\n",
       "      <th>visibility</th>\n",
       "      <th>windBearing</th>\n",
       "      <th>windGust</th>\n",
       "      <th>windSpeed</th>\n",
       "      <th>lat</th>\n",
       "      <th>lon</th>\n",
       "      <th>precipType</th>\n",
       "      <th>human_time</th>\n",
       "    </tr>\n",
       "  </thead>\n",
       "  <tbody>\n",
       "    <tr>\n",
       "      <th>0</th>\n",
       "      <td>55.65</td>\n",
       "      <td>0.75</td>\n",
       "      <td>50.33</td>\n",
       "      <td>0.82</td>\n",
       "      <td>partly-cloudy-night</td>\n",
       "      <td>0.0</td>\n",
       "      <td>0.0</td>\n",
       "      <td>1007.69</td>\n",
       "      <td>Mostly Cloudy</td>\n",
       "      <td>55.65</td>\n",
       "      <td>1460300400</td>\n",
       "      <td>0</td>\n",
       "      <td>7.00</td>\n",
       "      <td>29</td>\n",
       "      <td>12.01</td>\n",
       "      <td>3.85</td>\n",
       "      <td>35.630294</td>\n",
       "      <td>139.627664</td>\n",
       "      <td>NaN</td>\n",
       "      <td>2016-04-11 00:00:00+09:00</td>\n",
       "    </tr>\n",
       "    <tr>\n",
       "      <th>1</th>\n",
       "      <td>54.71</td>\n",
       "      <td>0.75</td>\n",
       "      <td>49.04</td>\n",
       "      <td>0.81</td>\n",
       "      <td>partly-cloudy-night</td>\n",
       "      <td>0.0</td>\n",
       "      <td>0.0</td>\n",
       "      <td>1007.10</td>\n",
       "      <td>Mostly Cloudy</td>\n",
       "      <td>54.71</td>\n",
       "      <td>1460304000</td>\n",
       "      <td>0</td>\n",
       "      <td>7.00</td>\n",
       "      <td>22</td>\n",
       "      <td>19.04</td>\n",
       "      <td>7.77</td>\n",
       "      <td>35.630294</td>\n",
       "      <td>139.627664</td>\n",
       "      <td>NaN</td>\n",
       "      <td>2016-04-11 01:00:00+09:00</td>\n",
       "    </tr>\n",
       "    <tr>\n",
       "      <th>2</th>\n",
       "      <td>53.28</td>\n",
       "      <td>0.84</td>\n",
       "      <td>47.74</td>\n",
       "      <td>0.81</td>\n",
       "      <td>partly-cloudy-night</td>\n",
       "      <td>0.0</td>\n",
       "      <td>0.0</td>\n",
       "      <td>1006.67</td>\n",
       "      <td>Mostly Cloudy</td>\n",
       "      <td>53.28</td>\n",
       "      <td>1460307600</td>\n",
       "      <td>0</td>\n",
       "      <td>7.62</td>\n",
       "      <td>21</td>\n",
       "      <td>8.95</td>\n",
       "      <td>8.33</td>\n",
       "      <td>35.630294</td>\n",
       "      <td>139.627664</td>\n",
       "      <td>NaN</td>\n",
       "      <td>2016-04-11 02:00:00+09:00</td>\n",
       "    </tr>\n",
       "    <tr>\n",
       "      <th>3</th>\n",
       "      <td>52.91</td>\n",
       "      <td>0.88</td>\n",
       "      <td>46.99</td>\n",
       "      <td>0.80</td>\n",
       "      <td>partly-cloudy-night</td>\n",
       "      <td>0.0</td>\n",
       "      <td>0.0</td>\n",
       "      <td>1006.65</td>\n",
       "      <td>Mostly Cloudy</td>\n",
       "      <td>52.91</td>\n",
       "      <td>1460311200</td>\n",
       "      <td>0</td>\n",
       "      <td>6.88</td>\n",
       "      <td>10</td>\n",
       "      <td>7.20</td>\n",
       "      <td>6.25</td>\n",
       "      <td>35.630294</td>\n",
       "      <td>139.627664</td>\n",
       "      <td>NaN</td>\n",
       "      <td>2016-04-11 03:00:00+09:00</td>\n",
       "    </tr>\n",
       "    <tr>\n",
       "      <th>4</th>\n",
       "      <td>52.54</td>\n",
       "      <td>0.75</td>\n",
       "      <td>46.66</td>\n",
       "      <td>0.80</td>\n",
       "      <td>partly-cloudy-night</td>\n",
       "      <td>0.0</td>\n",
       "      <td>0.0</td>\n",
       "      <td>1006.85</td>\n",
       "      <td>Mostly Cloudy</td>\n",
       "      <td>52.54</td>\n",
       "      <td>1460314800</td>\n",
       "      <td>0</td>\n",
       "      <td>6.22</td>\n",
       "      <td>12</td>\n",
       "      <td>5.78</td>\n",
       "      <td>5.33</td>\n",
       "      <td>35.630294</td>\n",
       "      <td>139.627664</td>\n",
       "      <td>NaN</td>\n",
       "      <td>2016-04-11 04:00:00+09:00</td>\n",
       "    </tr>\n",
       "  </tbody>\n",
       "</table>\n",
       "</div>"
      ],
      "text/plain": [
       "   apparentTemperature  cloudCover  dewPoint  humidity                 icon  \\\n",
       "0                55.65        0.75     50.33      0.82  partly-cloudy-night   \n",
       "1                54.71        0.75     49.04      0.81  partly-cloudy-night   \n",
       "2                53.28        0.84     47.74      0.81  partly-cloudy-night   \n",
       "3                52.91        0.88     46.99      0.80  partly-cloudy-night   \n",
       "4                52.54        0.75     46.66      0.80  partly-cloudy-night   \n",
       "\n",
       "   precipIntensity  precipProbability  pressure        summary  temperature  \\\n",
       "0              0.0                0.0   1007.69  Mostly Cloudy        55.65   \n",
       "1              0.0                0.0   1007.10  Mostly Cloudy        54.71   \n",
       "2              0.0                0.0   1006.67  Mostly Cloudy        53.28   \n",
       "3              0.0                0.0   1006.65  Mostly Cloudy        52.91   \n",
       "4              0.0                0.0   1006.85  Mostly Cloudy        52.54   \n",
       "\n",
       "     utc_time  uvIndex  visibility  windBearing  windGust  windSpeed  \\\n",
       "0  1460300400        0        7.00           29     12.01       3.85   \n",
       "1  1460304000        0        7.00           22     19.04       7.77   \n",
       "2  1460307600        0        7.62           21      8.95       8.33   \n",
       "3  1460311200        0        6.88           10      7.20       6.25   \n",
       "4  1460314800        0        6.22           12      5.78       5.33   \n",
       "\n",
       "         lat         lon precipType                 human_time  \n",
       "0  35.630294  139.627664        NaN  2016-04-11 00:00:00+09:00  \n",
       "1  35.630294  139.627664        NaN  2016-04-11 01:00:00+09:00  \n",
       "2  35.630294  139.627664        NaN  2016-04-11 02:00:00+09:00  \n",
       "3  35.630294  139.627664        NaN  2016-04-11 03:00:00+09:00  \n",
       "4  35.630294  139.627664        NaN  2016-04-11 04:00:00+09:00  "
      ]
     },
     "execution_count": 5,
     "metadata": {},
     "output_type": "execute_result"
    }
   ],
   "source": [
    "weather.head()"
   ]
  },
  {
   "cell_type": "code",
   "execution_count": 6,
   "metadata": {},
   "outputs": [],
   "source": [
    "tweets = pd.read_csv('data/tokyo-200k-tweets-followthehashtag.csv')"
   ]
  },
  {
   "cell_type": "code",
   "execution_count": 9,
   "metadata": {},
   "outputs": [
    {
     "data": {
      "text/plain": [
       "3"
      ]
     },
     "execution_count": 9,
     "metadata": {},
     "output_type": "execute_result"
    }
   ],
   "source": [
    "weather.lat.nunique()"
   ]
  },
  {
   "cell_type": "code",
   "execution_count": 10,
   "metadata": {},
   "outputs": [
    {
     "data": {
      "text/plain": [
       "3"
      ]
     },
     "execution_count": 10,
     "metadata": {},
     "output_type": "execute_result"
    }
   ],
   "source": [
    "weather.lon.nunique()"
   ]
  },
  {
   "cell_type": "code",
   "execution_count": 7,
   "metadata": {},
   "outputs": [
    {
     "data": {
      "text/html": [
       "<div>\n",
       "<style scoped>\n",
       "    .dataframe tbody tr th:only-of-type {\n",
       "        vertical-align: middle;\n",
       "    }\n",
       "\n",
       "    .dataframe tbody tr th {\n",
       "        vertical-align: top;\n",
       "    }\n",
       "\n",
       "    .dataframe thead th {\n",
       "        text-align: right;\n",
       "    }\n",
       "</style>\n",
       "<table border=\"1\" class=\"dataframe\">\n",
       "  <thead>\n",
       "    <tr style=\"text-align: right;\">\n",
       "      <th></th>\n",
       "      <th>Tweet Id</th>\n",
       "      <th>Date</th>\n",
       "      <th>Hour</th>\n",
       "      <th>User Name</th>\n",
       "      <th>Nickname</th>\n",
       "      <th>Bio</th>\n",
       "      <th>Tweet content</th>\n",
       "      <th>Favs</th>\n",
       "      <th>RTs</th>\n",
       "      <th>Latitude</th>\n",
       "      <th>Longitude</th>\n",
       "      <th>Country</th>\n",
       "      <th>Place (as appears on Bio)</th>\n",
       "      <th>Profile picture</th>\n",
       "      <th>Followers</th>\n",
       "      <th>Following</th>\n",
       "      <th>Listed</th>\n",
       "      <th>Tweet language (ISO 639-1)</th>\n",
       "      <th>Tweet Url</th>\n",
       "    </tr>\n",
       "  </thead>\n",
       "  <tbody>\n",
       "    <tr>\n",
       "      <th>0</th>\n",
       "      <td>723211537964388352</td>\n",
       "      <td>2016-04-21</td>\n",
       "      <td>18:07</td>\n",
       "      <td>しぶや花魁 shibuya OIRAN</td>\n",
       "      <td>oiran_shibuya</td>\n",
       "      <td>Warmup Bar＆Restaurant. 18時-Late \\n道玄坂2-22-6 TE...</td>\n",
       "      <td>RT @pstlm: I'm at しぶや 花魁 @OIRAN_shibuya in 渋谷区...</td>\n",
       "      <td>NaN</td>\n",
       "      <td>1.0</td>\n",
       "      <td>NaN</td>\n",
       "      <td>NaN</td>\n",
       "      <td>NaN</td>\n",
       "      <td>NaN</td>\n",
       "      <td>http://pbs.twimg.com/profile_images/6291534664...</td>\n",
       "      <td>2695.0</td>\n",
       "      <td>2731.0</td>\n",
       "      <td>126.0</td>\n",
       "      <td>es</td>\n",
       "      <td>http://www.twitter.com/oiran_shibuya/status/72...</td>\n",
       "    </tr>\n",
       "    <tr>\n",
       "      <th>1</th>\n",
       "      <td>723211500068855809</td>\n",
       "      <td>2016-04-21</td>\n",
       "      <td>18:07</td>\n",
       "      <td>RJTY METAR</td>\n",
       "      <td>rjty_metar</td>\n",
       "      <td>Yokota Air Base</td>\n",
       "      <td>RJTY 211758Z AUTO 02004KT 5SM R18/4500FT BR OV...</td>\n",
       "      <td>NaN</td>\n",
       "      <td>NaN</td>\n",
       "      <td>35.748611</td>\n",
       "      <td>139.348611</td>\n",
       "      <td>JP</td>\n",
       "      <td>Mizuho-machi, Tokyo</td>\n",
       "      <td>http://abs.twimg.com/sticky/default_profile_im...</td>\n",
       "      <td>57.0</td>\n",
       "      <td>1.0</td>\n",
       "      <td>8.0</td>\n",
       "      <td>es</td>\n",
       "      <td>http://www.twitter.com/rjty_metar/status/72321...</td>\n",
       "    </tr>\n",
       "    <tr>\n",
       "      <th>2</th>\n",
       "      <td>723211367268814848</td>\n",
       "      <td>2016-04-21</td>\n",
       "      <td>18:06</td>\n",
       "      <td>RJTT METAR</td>\n",
       "      <td>rjtt_metar</td>\n",
       "      <td>Haneda, Tokyo Int'l Airport</td>\n",
       "      <td>RJTT 211800Z 32008KT 5000 BR FEW005 BKN007 BKN...</td>\n",
       "      <td>NaN</td>\n",
       "      <td>NaN</td>\n",
       "      <td>35.553333</td>\n",
       "      <td>139.781111</td>\n",
       "      <td>JP</td>\n",
       "      <td>Ota-ku, Tokyo</td>\n",
       "      <td>http://pbs.twimg.com/profile_images/794981150/...</td>\n",
       "      <td>598.0</td>\n",
       "      <td>20.0</td>\n",
       "      <td>74.0</td>\n",
       "      <td>es</td>\n",
       "      <td>http://www.twitter.com/rjtt_metar/status/72321...</td>\n",
       "    </tr>\n",
       "    <tr>\n",
       "      <th>3</th>\n",
       "      <td>723211242366607361</td>\n",
       "      <td>2016-04-21</td>\n",
       "      <td>18:06</td>\n",
       "      <td>イッチー_ユニーク</td>\n",
       "      <td>ITTI_UNIKE</td>\n",
       "      <td>Producer / Drum'n'Bass /DJ / UNIKE / FUTURE FO...</td>\n",
       "      <td>1.8リットル空いた、、、最の高 @ 渋谷 (Shibuya) https://t.co/7...</td>\n",
       "      <td>NaN</td>\n",
       "      <td>NaN</td>\n",
       "      <td>35.659448</td>\n",
       "      <td>139.699965</td>\n",
       "      <td>JP</td>\n",
       "      <td>Shibuya-ku, Tokyo</td>\n",
       "      <td>http://pbs.twimg.com/profile_images/3788000005...</td>\n",
       "      <td>1267.0</td>\n",
       "      <td>938.0</td>\n",
       "      <td>51.0</td>\n",
       "      <td>es</td>\n",
       "      <td>http://www.twitter.com/ITTI_UNIKE/status/72321...</td>\n",
       "    </tr>\n",
       "    <tr>\n",
       "      <th>4</th>\n",
       "      <td>723211239824842752</td>\n",
       "      <td>2016-04-21</td>\n",
       "      <td>18:06</td>\n",
       "      <td>大ちゃん@ 小野亜里沙渋谷DUO</td>\n",
       "      <td>daichanarisa</td>\n",
       "      <td>瀧川ありささん応援中！</td>\n",
       "      <td>@Rihwa_Park 演歌のように心に響いてくる歌詞だし、歌も届いています。</td>\n",
       "      <td>NaN</td>\n",
       "      <td>NaN</td>\n",
       "      <td>35.709270</td>\n",
       "      <td>139.716647</td>\n",
       "      <td>JP</td>\n",
       "      <td>Shinjuku-ku, Tokyo</td>\n",
       "      <td>http://pbs.twimg.com/profile_images/5974510432...</td>\n",
       "      <td>46.0</td>\n",
       "      <td>82.0</td>\n",
       "      <td>4.0</td>\n",
       "      <td>es</td>\n",
       "      <td>http://www.twitter.com/daichanarisa/status/723...</td>\n",
       "    </tr>\n",
       "  </tbody>\n",
       "</table>\n",
       "</div>"
      ],
      "text/plain": [
       "             Tweet Id        Date   Hour            User Name       Nickname  \\\n",
       "0  723211537964388352  2016-04-21  18:07  しぶや花魁 shibuya OIRAN  oiran_shibuya   \n",
       "1  723211500068855809  2016-04-21  18:07           RJTY METAR     rjty_metar   \n",
       "2  723211367268814848  2016-04-21  18:06           RJTT METAR     rjtt_metar   \n",
       "3  723211242366607361  2016-04-21  18:06            イッチー_ユニーク     ITTI_UNIKE   \n",
       "4  723211239824842752  2016-04-21  18:06     大ちゃん@ 小野亜里沙渋谷DUO   daichanarisa   \n",
       "\n",
       "                                                 Bio  \\\n",
       "0  Warmup Bar＆Restaurant. 18時-Late \\n道玄坂2-22-6 TE...   \n",
       "1                                    Yokota Air Base   \n",
       "2                        Haneda, Tokyo Int'l Airport   \n",
       "3  Producer / Drum'n'Bass /DJ / UNIKE / FUTURE FO...   \n",
       "4                                        瀧川ありささん応援中！   \n",
       "\n",
       "                                       Tweet content  Favs  RTs   Latitude  \\\n",
       "0  RT @pstlm: I'm at しぶや 花魁 @OIRAN_shibuya in 渋谷区...   NaN  1.0        NaN   \n",
       "1  RJTY 211758Z AUTO 02004KT 5SM R18/4500FT BR OV...   NaN  NaN  35.748611   \n",
       "2  RJTT 211800Z 32008KT 5000 BR FEW005 BKN007 BKN...   NaN  NaN  35.553333   \n",
       "3  1.8リットル空いた、、、最の高 @ 渋谷 (Shibuya) https://t.co/7...   NaN  NaN  35.659448   \n",
       "4            @Rihwa_Park 演歌のように心に響いてくる歌詞だし、歌も届いています。   NaN  NaN  35.709270   \n",
       "\n",
       "    Longitude Country Place (as appears on Bio)  \\\n",
       "0         NaN     NaN                       NaN   \n",
       "1  139.348611      JP       Mizuho-machi, Tokyo   \n",
       "2  139.781111      JP             Ota-ku, Tokyo   \n",
       "3  139.699965      JP         Shibuya-ku, Tokyo   \n",
       "4  139.716647      JP        Shinjuku-ku, Tokyo   \n",
       "\n",
       "                                     Profile picture  Followers  Following  \\\n",
       "0  http://pbs.twimg.com/profile_images/6291534664...     2695.0     2731.0   \n",
       "1  http://abs.twimg.com/sticky/default_profile_im...       57.0        1.0   \n",
       "2  http://pbs.twimg.com/profile_images/794981150/...      598.0       20.0   \n",
       "3  http://pbs.twimg.com/profile_images/3788000005...     1267.0      938.0   \n",
       "4  http://pbs.twimg.com/profile_images/5974510432...       46.0       82.0   \n",
       "\n",
       "   Listed Tweet language (ISO 639-1)  \\\n",
       "0   126.0                         es   \n",
       "1     8.0                         es   \n",
       "2    74.0                         es   \n",
       "3    51.0                         es   \n",
       "4     4.0                         es   \n",
       "\n",
       "                                           Tweet Url  \n",
       "0  http://www.twitter.com/oiran_shibuya/status/72...  \n",
       "1  http://www.twitter.com/rjty_metar/status/72321...  \n",
       "2  http://www.twitter.com/rjtt_metar/status/72321...  \n",
       "3  http://www.twitter.com/ITTI_UNIKE/status/72321...  \n",
       "4  http://www.twitter.com/daichanarisa/status/723...  "
      ]
     },
     "execution_count": 7,
     "metadata": {},
     "output_type": "execute_result"
    }
   ],
   "source": [
    "tweets.head()"
   ]
  },
  {
   "cell_type": "code",
   "execution_count": 2,
   "metadata": {},
   "outputs": [],
   "source": [
    "wdf = pd.DataFrame({\n",
    "    'day': [0, 0, 1, 1],\n",
    "    'hour': [0, 1, 0, 1],\n",
    "    'temp': [10, 20, 12, 22],\n",
    "})"
   ]
  },
  {
   "cell_type": "code",
   "execution_count": 3,
   "metadata": {},
   "outputs": [],
   "source": [
    "twt = pd.DataFrame({\n",
    "    'day':  [0, 0, 0, 0, 0, 1],\n",
    "    'hour': [0, 0, 1, 1, 1, 0],\n",
    "})"
   ]
  },
  {
   "cell_type": "code",
   "execution_count": 12,
   "metadata": {},
   "outputs": [],
   "source": [
    "from sklearn.neighbors import KNeighborsRegressor"
   ]
  },
  {
   "cell_type": "code",
   "execution_count": 15,
   "metadata": {},
   "outputs": [],
   "source": [
    "X = weather[\n",
    "    ['lat', 'lon', 'utc_time']\n",
    "]\n",
    "\n",
    "y = weather.apparentTemperature"
   ]
  },
  {
   "cell_type": "code",
   "execution_count": 19,
   "metadata": {},
   "outputs": [],
   "source": [
    "knn = KNeighborsRegressor(\n",
    "    weights='distance',\n",
    "    # metric should be the radians one for lat/lon (even though the distance is not that large), and something linear for time\n",
    "    n_jobs=-1,\n",
    ")"
   ]
  },
  {
   "cell_type": "code",
   "execution_count": 20,
   "metadata": {},
   "outputs": [
    {
     "data": {
      "text/plain": [
       "KNeighborsRegressor(algorithm='auto', leaf_size=30, metric='minkowski',\n",
       "          metric_params=None, n_jobs=-1, n_neighbors=5, p=2,\n",
       "          weights='distance')"
      ]
     },
     "execution_count": 20,
     "metadata": {},
     "output_type": "execute_result"
    }
   ],
   "source": [
    "knn.fit(X, y)"
   ]
  },
  {
   "cell_type": "code",
   "execution_count": 21,
   "metadata": {},
   "outputs": [
    {
     "data": {
      "text/plain": [
       "array([55.65, 54.71])"
      ]
     },
     "execution_count": 21,
     "metadata": {},
     "output_type": "execute_result"
    }
   ],
   "source": [
    "knn.predict(X[:2])"
   ]
  },
  {
   "cell_type": "code",
   "execution_count": 18,
   "metadata": {},
   "outputs": [
    {
     "data": {
      "text/plain": [
       "0    55.65\n",
       "1    54.71\n",
       "Name: apparentTemperature, dtype: float64"
      ]
     },
     "execution_count": 18,
     "metadata": {},
     "output_type": "execute_result"
    }
   ],
   "source": [
    "y[:2]"
   ]
  }
 ],
 "metadata": {
  "kernelspec": {
   "display_name": "Python 3",
   "language": "python",
   "name": "python3"
  },
  "language_info": {
   "codemirror_mode": {
    "name": "ipython",
    "version": 3
   },
   "file_extension": ".py",
   "mimetype": "text/x-python",
   "name": "python",
   "nbconvert_exporter": "python",
   "pygments_lexer": "ipython3",
   "version": "3.7.0"
  }
 },
 "nbformat": 4,
 "nbformat_minor": 2
}
